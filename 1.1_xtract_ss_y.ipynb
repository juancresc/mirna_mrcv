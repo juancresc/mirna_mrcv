{
 "cells": [
  {
   "cell_type": "code",
   "execution_count": 44,
   "metadata": {},
   "outputs": [],
   "source": [
    "import pandas as pd\n",
    "data_dir = \"/home/juan/Desktop/juan/bio/mirna_mrcv/data/\"\n",
    "res_dir = \"/home/juan/Desktop/juan/bio/mirna_mrcv/data/\"\n",
    "\n",
    "res_dir = \"/home/juan/Desktop/juan/bio/mirna_mrcv/data/CT2/res/\"\n",
    "data_dir = '/home/juan/Desktop/juan/bio/mirna_mrcv/data/CT2/'\n",
    "\n",
    "data_dir = '/home/juan/Desktop/juan/bio/mirna_mrcv/data/CT_old/'\n",
    "res_dir = data_dir + 'res/'\n",
    "\n",
    "data_dir = '/home/juan/Desktop/juan/bio/mirna_mrcv/data/CT_SM1.2_BT1.2_V2.4/'\n",
    "res_dir = data_dir + 'res/'\n",
    "\n",
    "data_dir = '/home/juan/Desktop/juan/bio/mirna_mrcv/data/CT4_SM1.9_BT1.2_V2.4/'\n",
    "res_dir = data_dir + 'res/'"
   ]
  },
  {
   "cell_type": "raw",
   "metadata": {},
   "source": [
    "## tr -s '\\t' '\\t' < Counts.txt > counts.fixed.csv"
   ]
  },
  {
   "cell_type": "code",
   "execution_count": 45,
   "metadata": {},
   "outputs": [],
   "source": [
    "path_counts = data_dir + \"counts.fixed.csv\"\n",
    "df_counts = pd.read_csv(path_counts, sep=\"\\t\", comment='#')\n"
   ]
  },
  {
   "cell_type": "code",
   "execution_count": 46,
   "metadata": {},
   "outputs": [
    {
     "data": {
      "text/html": [
       "<div>\n",
       "<style scoped>\n",
       "    .dataframe tbody tr th:only-of-type {\n",
       "        vertical-align: middle;\n",
       "    }\n",
       "\n",
       "    .dataframe tbody tr th {\n",
       "        vertical-align: top;\n",
       "    }\n",
       "\n",
       "    .dataframe thead th {\n",
       "        text-align: right;\n",
       "    }\n",
       "</style>\n",
       "<table border=\"1\" class=\"dataframe\">\n",
       "  <thead>\n",
       "    <tr style=\"text-align: right;\">\n",
       "      <th></th>\n",
       "      <th>Locus</th>\n",
       "      <th>Name</th>\n",
       "      <th>main</th>\n",
       "      <th>21dpiR1C.trimmed</th>\n",
       "      <th>21dpiR3C.trimmed</th>\n",
       "      <th>21dpiR1T.trimmed</th>\n",
       "      <th>21dpiR3T.trimmed</th>\n",
       "    </tr>\n",
       "  </thead>\n",
       "  <tbody>\n",
       "    <tr>\n",
       "      <th>0</th>\n",
       "      <td>1A:209-460</td>\n",
       "      <td>Cluster_1</td>\n",
       "      <td>127</td>\n",
       "      <td>20</td>\n",
       "      <td>20</td>\n",
       "      <td>50</td>\n",
       "      <td>37</td>\n",
       "    </tr>\n",
       "    <tr>\n",
       "      <th>1</th>\n",
       "      <td>1A:688-753</td>\n",
       "      <td>Cluster_2</td>\n",
       "      <td>86</td>\n",
       "      <td>19</td>\n",
       "      <td>7</td>\n",
       "      <td>33</td>\n",
       "      <td>27</td>\n",
       "    </tr>\n",
       "  </tbody>\n",
       "</table>\n",
       "</div>"
      ],
      "text/plain": [
       "        Locus       Name  main  21dpiR1C.trimmed  21dpiR3C.trimmed  \\\n",
       "0  1A:209-460  Cluster_1   127                20                20   \n",
       "1  1A:688-753  Cluster_2    86                19                 7   \n",
       "\n",
       "   21dpiR1T.trimmed  21dpiR3T.trimmed  \n",
       "0                50                37  \n",
       "1                33                27  "
      ]
     },
     "execution_count": 46,
     "metadata": {},
     "output_type": "execute_result"
    }
   ],
   "source": [
    "df_counts.head(2)"
   ]
  },
  {
   "cell_type": "code",
   "execution_count": 47,
   "metadata": {},
   "outputs": [
    {
     "name": "stdout",
     "output_type": "stream",
     "text": [
      "120958\n"
     ]
    }
   ],
   "source": [
    "print(len(df_counts.index))"
   ]
  },
  {
   "cell_type": "code",
   "execution_count": 48,
   "metadata": {},
   "outputs": [
    {
     "data": {
      "text/html": [
       "<div>\n",
       "<style scoped>\n",
       "    .dataframe tbody tr th:only-of-type {\n",
       "        vertical-align: middle;\n",
       "    }\n",
       "\n",
       "    .dataframe tbody tr th {\n",
       "        vertical-align: top;\n",
       "    }\n",
       "\n",
       "    .dataframe thead th {\n",
       "        text-align: right;\n",
       "    }\n",
       "</style>\n",
       "<table border=\"1\" class=\"dataframe\">\n",
       "  <thead>\n",
       "    <tr style=\"text-align: right;\">\n",
       "      <th></th>\n",
       "      <th>#Locus</th>\n",
       "      <th>Name</th>\n",
       "      <th>Length</th>\n",
       "      <th>Reads</th>\n",
       "      <th>RPM</th>\n",
       "      <th>UniqueReads</th>\n",
       "      <th>FracTop</th>\n",
       "      <th>Strand</th>\n",
       "      <th>MajorRNA</th>\n",
       "      <th>MajorRNAReads</th>\n",
       "      <th>...</th>\n",
       "      <th>DicerCall</th>\n",
       "      <th>MIRNA</th>\n",
       "      <th>PhaseScore</th>\n",
       "      <th>Short</th>\n",
       "      <th>Long</th>\n",
       "      <th>20</th>\n",
       "      <th>21</th>\n",
       "      <th>22</th>\n",
       "      <th>23</th>\n",
       "      <th>24</th>\n",
       "    </tr>\n",
       "  </thead>\n",
       "  <tbody>\n",
       "    <tr>\n",
       "      <th>0</th>\n",
       "      <td>1A:209-460</td>\n",
       "      <td>Cluster_1</td>\n",
       "      <td>252</td>\n",
       "      <td>127</td>\n",
       "      <td>0.997</td>\n",
       "      <td>64</td>\n",
       "      <td>1.0</td>\n",
       "      <td>+</td>\n",
       "      <td>CGCGGAUUGCUCGAGCUGCUCACGCGGCGAGAGCGGGUCG</td>\n",
       "      <td>25</td>\n",
       "      <td>...</td>\n",
       "      <td>N</td>\n",
       "      <td>N2</td>\n",
       "      <td>-1.0</td>\n",
       "      <td>30</td>\n",
       "      <td>80</td>\n",
       "      <td>3</td>\n",
       "      <td>1</td>\n",
       "      <td>5</td>\n",
       "      <td>4</td>\n",
       "      <td>4</td>\n",
       "    </tr>\n",
       "    <tr>\n",
       "      <th>1</th>\n",
       "      <td>1A:688-753</td>\n",
       "      <td>Cluster_2</td>\n",
       "      <td>66</td>\n",
       "      <td>86</td>\n",
       "      <td>0.675</td>\n",
       "      <td>0</td>\n",
       "      <td>1.0</td>\n",
       "      <td>+</td>\n",
       "      <td>CUCUAGACCGACUUUGUGAAAUGAC</td>\n",
       "      <td>5</td>\n",
       "      <td>...</td>\n",
       "      <td>N</td>\n",
       "      <td>N2</td>\n",
       "      <td>-1.0</td>\n",
       "      <td>7</td>\n",
       "      <td>61</td>\n",
       "      <td>5</td>\n",
       "      <td>1</td>\n",
       "      <td>4</td>\n",
       "      <td>4</td>\n",
       "      <td>4</td>\n",
       "    </tr>\n",
       "  </tbody>\n",
       "</table>\n",
       "<p>2 rows × 21 columns</p>\n",
       "</div>"
      ],
      "text/plain": [
       "       #Locus       Name  Length  Reads    RPM  UniqueReads  FracTop Strand  \\\n",
       "0  1A:209-460  Cluster_1     252    127  0.997           64      1.0      +   \n",
       "1  1A:688-753  Cluster_2      66     86  0.675            0      1.0      +   \n",
       "\n",
       "                                   MajorRNA  MajorRNAReads ...  DicerCall  \\\n",
       "0  CGCGGAUUGCUCGAGCUGCUCACGCGGCGAGAGCGGGUCG             25 ...          N   \n",
       "1                 CUCUAGACCGACUUUGUGAAAUGAC              5 ...          N   \n",
       "\n",
       "  MIRNA PhaseScore  Short  Long  20  21  22  23  24  \n",
       "0    N2       -1.0     30    80   3   1   5   4   4  \n",
       "1    N2       -1.0      7    61   5   1   4   4   4  \n",
       "\n",
       "[2 rows x 21 columns]"
      ]
     },
     "execution_count": 48,
     "metadata": {},
     "output_type": "execute_result"
    }
   ],
   "source": [
    "path_results = data_dir + \"Results.txt\"\n",
    "df_res = pd.read_csv(path_results, sep=\"\\t\")\n",
    "df_res.head(2)"
   ]
  },
  {
   "cell_type": "code",
   "execution_count": 49,
   "metadata": {},
   "outputs": [
    {
     "name": "stdout",
     "output_type": "stream",
     "text": [
      "38514\n"
     ]
    }
   ],
   "source": [
    "print(len(df_res.index))"
   ]
  },
  {
   "cell_type": "code",
   "execution_count": 50,
   "metadata": {},
   "outputs": [
    {
     "name": "stdout",
     "output_type": "stream",
     "text": [
      "136\n"
     ]
    }
   ],
   "source": [
    "df_res = df_res[df_res.MIRNA == \"Y\"]\n",
    "print(len(df_res.index))"
   ]
  },
  {
   "cell_type": "code",
   "execution_count": 51,
   "metadata": {},
   "outputs": [
    {
     "data": {
      "text/plain": [
       "<matplotlib.axes._subplots.AxesSubplot at 0x7f2a22e606d8>"
      ]
     },
     "execution_count": 51,
     "metadata": {},
     "output_type": "execute_result"
    },
    {
     "data": {
      "image/png": "[encoded data removed]",
      "text/plain": [
       "<Figure size 432x288 with 1 Axes>"
      ]
     },
     "metadata": {
      "needs_background": "light"
     },
     "output_type": "display_data"
    }
   ],
   "source": [
    "df_res.DicerCall.value_counts().plot('bar')"
   ]
  },
  {
   "cell_type": "code",
   "execution_count": 52,
   "metadata": {},
   "outputs": [],
   "source": [
    "df_res['seqname'] = df_res['#Locus'].str.split(':').str[0]\n",
    "df_res['position'] = df_res['#Locus'].str.split(':').str[1]\n",
    "df_res['start'] = df_res.position.str.split('-').str[0].astype(int)\n",
    "df_res['end'] = df_res.position.str.split('-').str[1].astype(int)\n"
   ]
  },
  {
   "cell_type": "code",
   "execution_count": 53,
   "metadata": {},
   "outputs": [
    {
     "data": {
      "text/html": [
       "<div>\n",
       "<style scoped>\n",
       "    .dataframe tbody tr th:only-of-type {\n",
       "        vertical-align: middle;\n",
       "    }\n",
       "\n",
       "    .dataframe tbody tr th {\n",
       "        vertical-align: top;\n",
       "    }\n",
       "\n",
       "    .dataframe thead th {\n",
       "        text-align: right;\n",
       "    }\n",
       "</style>\n",
       "<table border=\"1\" class=\"dataframe\">\n",
       "  <thead>\n",
       "    <tr style=\"text-align: right;\">\n",
       "      <th></th>\n",
       "      <th>#Locus</th>\n",
       "      <th>Name</th>\n",
       "      <th>Length</th>\n",
       "      <th>Reads</th>\n",
       "      <th>RPM</th>\n",
       "      <th>UniqueReads</th>\n",
       "      <th>FracTop</th>\n",
       "      <th>Strand</th>\n",
       "      <th>MajorRNA</th>\n",
       "      <th>MajorRNAReads</th>\n",
       "      <th>...</th>\n",
       "      <th>Long</th>\n",
       "      <th>20</th>\n",
       "      <th>21</th>\n",
       "      <th>22</th>\n",
       "      <th>23</th>\n",
       "      <th>24</th>\n",
       "      <th>seqname</th>\n",
       "      <th>position</th>\n",
       "      <th>start</th>\n",
       "      <th>end</th>\n",
       "    </tr>\n",
       "  </thead>\n",
       "  <tbody>\n",
       "    <tr>\n",
       "      <th>880</th>\n",
       "      <td>1A:309399489-309399664</td>\n",
       "      <td>Cluster_881</td>\n",
       "      <td>176</td>\n",
       "      <td>556</td>\n",
       "      <td>4.364</td>\n",
       "      <td>1</td>\n",
       "      <td>0.002</td>\n",
       "      <td>-</td>\n",
       "      <td>ACGGCAUAGAGGCACUGCAAA</td>\n",
       "      <td>327</td>\n",
       "      <td>...</td>\n",
       "      <td>1</td>\n",
       "      <td>39</td>\n",
       "      <td>440</td>\n",
       "      <td>61</td>\n",
       "      <td>5</td>\n",
       "      <td>4</td>\n",
       "      <td>1A</td>\n",
       "      <td>309399489-309399664</td>\n",
       "      <td>309399489</td>\n",
       "      <td>309399664</td>\n",
       "    </tr>\n",
       "    <tr>\n",
       "      <th>1025</th>\n",
       "      <td>1A:419025472-419025570</td>\n",
       "      <td>Cluster_1026</td>\n",
       "      <td>99</td>\n",
       "      <td>388</td>\n",
       "      <td>3.045</td>\n",
       "      <td>20</td>\n",
       "      <td>1.000</td>\n",
       "      <td>+</td>\n",
       "      <td>CGAAUGUAUUUUUUAUGGCUUG</td>\n",
       "      <td>246</td>\n",
       "      <td>...</td>\n",
       "      <td>4</td>\n",
       "      <td>32</td>\n",
       "      <td>84</td>\n",
       "      <td>261</td>\n",
       "      <td>3</td>\n",
       "      <td>2</td>\n",
       "      <td>1A</td>\n",
       "      <td>419025472-419025570</td>\n",
       "      <td>419025472</td>\n",
       "      <td>419025570</td>\n",
       "    </tr>\n",
       "  </tbody>\n",
       "</table>\n",
       "<p>2 rows × 25 columns</p>\n",
       "</div>"
      ],
      "text/plain": [
       "                      #Locus          Name  Length  Reads    RPM  UniqueReads  \\\n",
       "880   1A:309399489-309399664   Cluster_881     176    556  4.364            1   \n",
       "1025  1A:419025472-419025570  Cluster_1026      99    388  3.045           20   \n",
       "\n",
       "      FracTop Strand                MajorRNA  MajorRNAReads    ...      Long  \\\n",
       "880     0.002      -   ACGGCAUAGAGGCACUGCAAA            327    ...         1   \n",
       "1025    1.000      +  CGAAUGUAUUUUUUAUGGCUUG            246    ...         4   \n",
       "\n",
       "      20   21   22  23  24  seqname             position      start        end  \n",
       "880   39  440   61   5   4       1A  309399489-309399664  309399489  309399664  \n",
       "1025  32   84  261   3   2       1A  419025472-419025570  419025472  419025570  \n",
       "\n",
       "[2 rows x 25 columns]"
      ]
     },
     "execution_count": 53,
     "metadata": {},
     "output_type": "execute_result"
    }
   ],
   "source": [
    "df_res.head(2)"
   ]
  },
  {
   "cell_type": "code",
   "execution_count": 54,
   "metadata": {},
   "outputs": [],
   "source": [
    "#df_res[(df_res.start - df_res.end) > 250]\n",
    "valids = df_res.Name.unique().tolist()\n",
    "df_counts = df_counts[df_counts.Name.isin(valids)]"
   ]
  },
  {
   "cell_type": "code",
   "execution_count": null,
   "metadata": {},
   "outputs": [],
   "source": []
  },
  {
   "cell_type": "code",
   "execution_count": null,
   "metadata": {},
   "outputs": [],
   "source": []
  },
  {
   "cell_type": "code",
   "execution_count": null,
   "metadata": {},
   "outputs": [],
   "source": []
  },
  {
   "cell_type": "code",
   "execution_count": null,
   "metadata": {},
   "outputs": [],
   "source": []
  },
  {
   "cell_type": "code",
   "execution_count": null,
   "metadata": {},
   "outputs": [],
   "source": []
  },
  {
   "cell_type": "code",
   "execution_count": null,
   "metadata": {},
   "outputs": [],
   "source": []
  },
  {
   "cell_type": "code",
   "execution_count": null,
   "metadata": {},
   "outputs": [],
   "source": []
  },
  {
   "cell_type": "code",
   "execution_count": 55,
   "metadata": {},
   "outputs": [
    {
     "data": {
      "text/plain": [
       "'/home/juan/Desktop/juan/bio/mirna_mrcv/data/CT4_SM1.9_BT1.2_V2.4/res/counts.valid.csv'"
      ]
     },
     "execution_count": 55,
     "metadata": {},
     "output_type": "execute_result"
    }
   ],
   "source": [
    "res_path = res_dir + 'counts.valid.csv'\n",
    "df_counts.to_csv(res_path, sep=\"\\t\", index=None)\n",
    "res_path"
   ]
  },
  {
   "cell_type": "code",
   "execution_count": null,
   "metadata": {},
   "outputs": [],
   "source": []
  },
  {
   "cell_type": "code",
   "execution_count": null,
   "metadata": {},
   "outputs": [],
   "source": []
  },
  {
   "cell_type": "code",
   "execution_count": null,
   "metadata": {},
   "outputs": [],
   "source": []
  }
 ],
 "metadata": {
  "kernelspec": {
   "display_name": "Python 3",
   "language": "python",
   "name": "python3"
  },
  "language_info": {
   "codemirror_mode": {
    "name": "ipython",
    "version": 3
   },
   "file_extension": ".py",
   "mimetype": "text/x-python",
   "name": "python",
   "nbconvert_exporter": "python",
   "pygments_lexer": "ipython3",
   "version": "3.6.5"
  }
 },
 "nbformat": 4,
 "nbformat_minor": 2
}
