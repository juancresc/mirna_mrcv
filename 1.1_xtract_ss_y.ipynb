{
 "cells": [
  {
   "cell_type": "code",
   "execution_count": 1,
   "metadata": {},
   "outputs": [],
   "source": [
    "import pandas as pd\n",
    "data_dir = \"/home/juan/Desktop/juan/bio/mirna_mrcv/data/\"\n",
    "res_dir = \"/home/juan/Desktop/juan/bio/mirna_mrcv/data/\""
   ]
  },
  {
   "cell_type": "markdown",
   "metadata": {},
   "source": [
    "## tr -s '\\t' '\\t' < Counts.txt > counts.fixed.csv"
   ]
  },
  {
   "cell_type": "code",
   "execution_count": 14,
   "metadata": {},
   "outputs": [],
   "source": [
    "path_counts = data_dir + \"counts.fixed.csv\"\n",
    "df_counts = pd.read_csv(path_counts, sep=\"\\t\", comment='#')\n"
   ]
  },
  {
   "cell_type": "code",
   "execution_count": 15,
   "metadata": {},
   "outputs": [
    {
     "data": {
      "text/html": [
       "<div>\n",
       "<style scoped>\n",
       "    .dataframe tbody tr th:only-of-type {\n",
       "        vertical-align: middle;\n",
       "    }\n",
       "\n",
       "    .dataframe tbody tr th {\n",
       "        vertical-align: top;\n",
       "    }\n",
       "\n",
       "    .dataframe thead th {\n",
       "        text-align: right;\n",
       "    }\n",
       "</style>\n",
       "<table border=\"1\" class=\"dataframe\">\n",
       "  <thead>\n",
       "    <tr style=\"text-align: right;\">\n",
       "      <th></th>\n",
       "      <th>Locus</th>\n",
       "      <th>Name</th>\n",
       "      <th>main</th>\n",
       "      <th>21dpiR1C.trimmed</th>\n",
       "      <th>21dpiR3C.trimmed</th>\n",
       "      <th>21dpiR1T.trimmed</th>\n",
       "      <th>21dpiR3T.trimmed</th>\n",
       "    </tr>\n",
       "  </thead>\n",
       "  <tbody>\n",
       "    <tr>\n",
       "      <th>0</th>\n",
       "      <td>1A:209-460</td>\n",
       "      <td>Cluster_1</td>\n",
       "      <td>118</td>\n",
       "      <td>23</td>\n",
       "      <td>20</td>\n",
       "      <td>45</td>\n",
       "      <td>30</td>\n",
       "    </tr>\n",
       "    <tr>\n",
       "      <th>1</th>\n",
       "      <td>1A:690-750</td>\n",
       "      <td>Cluster_2</td>\n",
       "      <td>78</td>\n",
       "      <td>17</td>\n",
       "      <td>4</td>\n",
       "      <td>32</td>\n",
       "      <td>25</td>\n",
       "    </tr>\n",
       "  </tbody>\n",
       "</table>\n",
       "</div>"
      ],
      "text/plain": [
       "        Locus       Name  main  21dpiR1C.trimmed  21dpiR3C.trimmed  \\\n",
       "0  1A:209-460  Cluster_1   118                23                20   \n",
       "1  1A:690-750  Cluster_2    78                17                 4   \n",
       "\n",
       "   21dpiR1T.trimmed  21dpiR3T.trimmed  \n",
       "0                45                30  \n",
       "1                32                25  "
      ]
     },
     "execution_count": 15,
     "metadata": {},
     "output_type": "execute_result"
    }
   ],
   "source": [
    "df_counts.head(2)"
   ]
  },
  {
   "cell_type": "code",
   "execution_count": 16,
   "metadata": {},
   "outputs": [
    {
     "name": "stdout",
     "output_type": "stream",
     "text": [
      "120976\n"
     ]
    }
   ],
   "source": [
    "print(len(df_counts.index))"
   ]
  },
  {
   "cell_type": "code",
   "execution_count": 17,
   "metadata": {},
   "outputs": [
    {
     "data": {
      "text/html": [
       "<div>\n",
       "<style scoped>\n",
       "    .dataframe tbody tr th:only-of-type {\n",
       "        vertical-align: middle;\n",
       "    }\n",
       "\n",
       "    .dataframe tbody tr th {\n",
       "        vertical-align: top;\n",
       "    }\n",
       "\n",
       "    .dataframe thead th {\n",
       "        text-align: right;\n",
       "    }\n",
       "</style>\n",
       "<table border=\"1\" class=\"dataframe\">\n",
       "  <thead>\n",
       "    <tr style=\"text-align: right;\">\n",
       "      <th></th>\n",
       "      <th>#Locus</th>\n",
       "      <th>Name</th>\n",
       "      <th>Length</th>\n",
       "      <th>Reads</th>\n",
       "      <th>RPM</th>\n",
       "      <th>UniqueReads</th>\n",
       "      <th>FracTop</th>\n",
       "      <th>Strand</th>\n",
       "      <th>MajorRNA</th>\n",
       "      <th>MajorRNAReads</th>\n",
       "      <th>...</th>\n",
       "      <th>DicerCall</th>\n",
       "      <th>MIRNA</th>\n",
       "      <th>PhaseScore</th>\n",
       "      <th>Short</th>\n",
       "      <th>Long</th>\n",
       "      <th>20</th>\n",
       "      <th>21</th>\n",
       "      <th>22</th>\n",
       "      <th>23</th>\n",
       "      <th>24</th>\n",
       "    </tr>\n",
       "  </thead>\n",
       "  <tbody>\n",
       "    <tr>\n",
       "      <th>0</th>\n",
       "      <td>1A:209-460</td>\n",
       "      <td>Cluster_1</td>\n",
       "      <td>252</td>\n",
       "      <td>118</td>\n",
       "      <td>0.926</td>\n",
       "      <td>64</td>\n",
       "      <td>1.0</td>\n",
       "      <td>+</td>\n",
       "      <td>CGCGGAUUGCUCGAGCUGCUCACGCGGCGAGAGCGGGUCG</td>\n",
       "      <td>25</td>\n",
       "      <td>...</td>\n",
       "      <td>N</td>\n",
       "      <td>N2</td>\n",
       "      <td>-1.0</td>\n",
       "      <td>28</td>\n",
       "      <td>71</td>\n",
       "      <td>2</td>\n",
       "      <td>1</td>\n",
       "      <td>6</td>\n",
       "      <td>6</td>\n",
       "      <td>4</td>\n",
       "    </tr>\n",
       "    <tr>\n",
       "      <th>1</th>\n",
       "      <td>1A:690-750</td>\n",
       "      <td>Cluster_2</td>\n",
       "      <td>61</td>\n",
       "      <td>78</td>\n",
       "      <td>0.612</td>\n",
       "      <td>0</td>\n",
       "      <td>1.0</td>\n",
       "      <td>+</td>\n",
       "      <td>UAGACCGACUUUGUGAAAUG</td>\n",
       "      <td>5</td>\n",
       "      <td>...</td>\n",
       "      <td>N</td>\n",
       "      <td>N2</td>\n",
       "      <td>-1.0</td>\n",
       "      <td>7</td>\n",
       "      <td>54</td>\n",
       "      <td>7</td>\n",
       "      <td>0</td>\n",
       "      <td>1</td>\n",
       "      <td>2</td>\n",
       "      <td>7</td>\n",
       "    </tr>\n",
       "  </tbody>\n",
       "</table>\n",
       "<p>2 rows × 21 columns</p>\n",
       "</div>"
      ],
      "text/plain": [
       "       #Locus       Name  Length  Reads    RPM  UniqueReads  FracTop Strand  \\\n",
       "0  1A:209-460  Cluster_1     252    118  0.926           64      1.0      +   \n",
       "1  1A:690-750  Cluster_2      61     78  0.612            0      1.0      +   \n",
       "\n",
       "                                   MajorRNA  MajorRNAReads ...  DicerCall  \\\n",
       "0  CGCGGAUUGCUCGAGCUGCUCACGCGGCGAGAGCGGGUCG             25 ...          N   \n",
       "1                      UAGACCGACUUUGUGAAAUG              5 ...          N   \n",
       "\n",
       "  MIRNA PhaseScore  Short  Long  20  21  22  23  24  \n",
       "0    N2       -1.0     28    71   2   1   6   6   4  \n",
       "1    N2       -1.0      7    54   7   0   1   2   7  \n",
       "\n",
       "[2 rows x 21 columns]"
      ]
     },
     "execution_count": 17,
     "metadata": {},
     "output_type": "execute_result"
    }
   ],
   "source": [
    "path_results = data_dir + \"Results.txt\"\n",
    "df_res = pd.read_csv(path_results, sep=\"\\t\")\n",
    "df_res.head(2)"
   ]
  },
  {
   "cell_type": "code",
   "execution_count": 18,
   "metadata": {},
   "outputs": [
    {
     "name": "stdout",
     "output_type": "stream",
     "text": [
      "38532\n"
     ]
    }
   ],
   "source": [
    "print(len(df_res.index))"
   ]
  },
  {
   "cell_type": "code",
   "execution_count": 19,
   "metadata": {},
   "outputs": [
    {
     "name": "stdout",
     "output_type": "stream",
     "text": [
      "135\n"
     ]
    }
   ],
   "source": [
    "df_res = df_res[df_res.MIRNA == \"Y\"]\n",
    "print(len(df_res.index))"
   ]
  },
  {
   "cell_type": "code",
   "execution_count": 20,
   "metadata": {},
   "outputs": [
    {
     "data": {
      "text/plain": [
       "<matplotlib.axes._subplots.AxesSubplot at 0x7f51acf950f0>"
      ]
     },
     "execution_count": 20,
     "metadata": {},
     "output_type": "execute_result"
    },
    {
     "data": {
      "image/png": "[encoded data removed]",
      "text/plain": [
       "<Figure size 432x288 with 1 Axes>"
      ]
     },
     "metadata": {
      "needs_background": "light"
     },
     "output_type": "display_data"
    }
   ],
   "source": [
    "df_res.DicerCall.value_counts().plot('bar')"
   ]
  },
  {
   "cell_type": "code",
   "execution_count": 21,
   "metadata": {},
   "outputs": [],
   "source": [
    "df_res['seqname'] = df_res['#Locus'].str.split(':').str[0]\n",
    "df_res['position'] = df_res['#Locus'].str.split(':').str[1]\n",
    "df_res['start'] = df_res.position.str.split('-').str[0].astype(int)\n",
    "df_res['end'] = df_res.position.str.split('-').str[1].astype(int)\n"
   ]
  },
  {
   "cell_type": "code",
   "execution_count": 22,
   "metadata": {},
   "outputs": [
    {
     "data": {
      "text/html": [
       "<div>\n",
       "<style scoped>\n",
       "    .dataframe tbody tr th:only-of-type {\n",
       "        vertical-align: middle;\n",
       "    }\n",
       "\n",
       "    .dataframe tbody tr th {\n",
       "        vertical-align: top;\n",
       "    }\n",
       "\n",
       "    .dataframe thead th {\n",
       "        text-align: right;\n",
       "    }\n",
       "</style>\n",
       "<table border=\"1\" class=\"dataframe\">\n",
       "  <thead>\n",
       "    <tr style=\"text-align: right;\">\n",
       "      <th></th>\n",
       "      <th>#Locus</th>\n",
       "      <th>Name</th>\n",
       "      <th>Length</th>\n",
       "      <th>Reads</th>\n",
       "      <th>RPM</th>\n",
       "      <th>UniqueReads</th>\n",
       "      <th>FracTop</th>\n",
       "      <th>Strand</th>\n",
       "      <th>MajorRNA</th>\n",
       "      <th>MajorRNAReads</th>\n",
       "      <th>...</th>\n",
       "      <th>Long</th>\n",
       "      <th>20</th>\n",
       "      <th>21</th>\n",
       "      <th>22</th>\n",
       "      <th>23</th>\n",
       "      <th>24</th>\n",
       "      <th>seqname</th>\n",
       "      <th>position</th>\n",
       "      <th>start</th>\n",
       "      <th>end</th>\n",
       "    </tr>\n",
       "  </thead>\n",
       "  <tbody>\n",
       "  </tbody>\n",
       "</table>\n",
       "<p>0 rows × 25 columns</p>\n",
       "</div>"
      ],
      "text/plain": [
       "Empty DataFrame\n",
       "Columns: [#Locus, Name, Length, Reads, RPM, UniqueReads, FracTop, Strand, MajorRNA, MajorRNAReads, Complexity, DicerCall, MIRNA, PhaseScore, Short, Long, 20, 21, 22, 23, 24, seqname, position, start, end]\n",
       "Index: []\n",
       "\n",
       "[0 rows x 25 columns]"
      ]
     },
     "execution_count": 22,
     "metadata": {},
     "output_type": "execute_result"
    }
   ],
   "source": [
    "df_res[(df_res.start - df_res.end) > 250]"
   ]
  },
  {
   "cell_type": "code",
   "execution_count": null,
   "metadata": {},
   "outputs": [],
   "source": []
  },
  {
   "cell_type": "code",
   "execution_count": 23,
   "metadata": {},
   "outputs": [],
   "source": [
    "valids = df_res.Name.unique().tolist()\n",
    "df_counts = df_counts[df_counts.Name.isin(valids)]"
   ]
  },
  {
   "cell_type": "code",
   "execution_count": 24,
   "metadata": {},
   "outputs": [],
   "source": [
    "df_counts.to_csv(res_dir + 'counts.valid.csv', sep=\"\\t\", index=None)"
   ]
  },
  {
   "cell_type": "code",
   "execution_count": null,
   "metadata": {},
   "outputs": [],
   "source": []
  },
  {
   "cell_type": "code",
   "execution_count": null,
   "metadata": {},
   "outputs": [],
   "source": []
  }
 ],
 "metadata": {
  "kernelspec": {
   "display_name": "Python 3",
   "language": "python",
   "name": "python3"
  },
  "language_info": {
   "codemirror_mode": {
    "name": "ipython",
    "version": 3
   },
   "file_extension": ".py",
   "mimetype": "text/x-python",
   "name": "python",
   "nbconvert_exporter": "python",
   "pygments_lexer": "ipython3",
   "version": "3.6.5"
  }
 },
 "nbformat": 4,
 "nbformat_minor": 2
}
