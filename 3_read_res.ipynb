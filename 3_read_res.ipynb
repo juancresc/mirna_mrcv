{
 "cells": [
  {
   "cell_type": "code",
   "execution_count": 13,
   "metadata": {},
   "outputs": [],
   "source": [
    "import pandas as pd\n",
    "import seaborn as sns"
   ]
  },
  {
   "cell_type": "code",
   "execution_count": 7,
   "metadata": {},
   "outputs": [],
   "source": [
    "path_base= '/home/juan/Desktop/juan/bio/mirna_mrcv/data/CT4_SM1.9_BT1.2_V2.4'\n",
    "path_res = '%s/res/res.csv' % (path_base)\n"
   ]
  },
  {
   "cell_type": "code",
   "execution_count": 8,
   "metadata": {},
   "outputs": [
    {
     "name": "stdout",
     "output_type": "stream",
     "text": [
      "786\n"
     ]
    },
    {
     "data": {
      "text/html": [
       "<div>\n",
       "<style scoped>\n",
       "    .dataframe tbody tr th:only-of-type {\n",
       "        vertical-align: middle;\n",
       "    }\n",
       "\n",
       "    .dataframe tbody tr th {\n",
       "        vertical-align: top;\n",
       "    }\n",
       "\n",
       "    .dataframe thead th {\n",
       "        text-align: right;\n",
       "    }\n",
       "</style>\n",
       "<table border=\"1\" class=\"dataframe\">\n",
       "  <thead>\n",
       "    <tr style=\"text-align: right;\">\n",
       "      <th></th>\n",
       "      <th>#Locus</th>\n",
       "      <th>Name</th>\n",
       "      <th>Length</th>\n",
       "      <th>Reads</th>\n",
       "      <th>RPM</th>\n",
       "      <th>UniqueReads</th>\n",
       "      <th>FracTop</th>\n",
       "      <th>Strand</th>\n",
       "      <th>MajorRNA</th>\n",
       "      <th>MajorRNAReads</th>\n",
       "      <th>...</th>\n",
       "      <th>Transcript</th>\n",
       "      <th>DegradomeCategory</th>\n",
       "      <th>DegradomePval</th>\n",
       "      <th>TStart</th>\n",
       "      <th>TStop</th>\n",
       "      <th>TSlice</th>\n",
       "      <th>lib</th>\n",
       "      <th>gene</th>\n",
       "      <th>Human-Readable-Description</th>\n",
       "      <th>gene_deg_log2FoldChange</th>\n",
       "    </tr>\n",
       "  </thead>\n",
       "  <tbody>\n",
       "    <tr>\n",
       "      <th>0</th>\n",
       "      <td>2A:485771022-485771245</td>\n",
       "      <td>Cluster_5926</td>\n",
       "      <td>224</td>\n",
       "      <td>6028</td>\n",
       "      <td>47.31</td>\n",
       "      <td>305</td>\n",
       "      <td>1.0</td>\n",
       "      <td>+</td>\n",
       "      <td>UAGGCGGUCACCUUGGCUAG</td>\n",
       "      <td>2878</td>\n",
       "      <td>...</td>\n",
       "      <td>TraesCS1D02G057300.1</td>\n",
       "      <td>1.0</td>\n",
       "      <td>0.225257</td>\n",
       "      <td>961.0</td>\n",
       "      <td>980.0</td>\n",
       "      <td>971.0</td>\n",
       "      <td>SRR1197127_seedling_root</td>\n",
       "      <td>TraesCS1D02G057300</td>\n",
       "      <td>Pyrimidine-specific ribonucleoside hydrolase</td>\n",
       "      <td>NaN</td>\n",
       "    </tr>\n",
       "    <tr>\n",
       "      <th>1</th>\n",
       "      <td>2A:485771022-485771245</td>\n",
       "      <td>Cluster_5926</td>\n",
       "      <td>224</td>\n",
       "      <td>6028</td>\n",
       "      <td>47.31</td>\n",
       "      <td>305</td>\n",
       "      <td>1.0</td>\n",
       "      <td>+</td>\n",
       "      <td>UAGGCGGUCACCUUGGCUAG</td>\n",
       "      <td>2878</td>\n",
       "      <td>...</td>\n",
       "      <td>TraesCS2D02G115700.1</td>\n",
       "      <td>2.0</td>\n",
       "      <td>0.994579</td>\n",
       "      <td>484.0</td>\n",
       "      <td>507.0</td>\n",
       "      <td>498.0</td>\n",
       "      <td>SRR1197127_seedling_root</td>\n",
       "      <td>TraesCS2D02G115700</td>\n",
       "      <td>Heavy metal transport/detoxification superfami...</td>\n",
       "      <td>NaN</td>\n",
       "    </tr>\n",
       "  </tbody>\n",
       "</table>\n",
       "<p>2 rows × 47 columns</p>\n",
       "</div>"
      ],
      "text/plain": [
       "                   #Locus          Name  Length  Reads    RPM  UniqueReads  \\\n",
       "0  2A:485771022-485771245  Cluster_5926     224   6028  47.31          305   \n",
       "1  2A:485771022-485771245  Cluster_5926     224   6028  47.31          305   \n",
       "\n",
       "   FracTop Strand              MajorRNA  MajorRNAReads  \\\n",
       "0      1.0      +  UAGGCGGUCACCUUGGCUAG           2878   \n",
       "1      1.0      +  UAGGCGGUCACCUUGGCUAG           2878   \n",
       "\n",
       "            ...                       Transcript  DegradomeCategory  \\\n",
       "0           ...             TraesCS1D02G057300.1                1.0   \n",
       "1           ...             TraesCS2D02G115700.1                2.0   \n",
       "\n",
       "  DegradomePval  TStart  TStop  TSlice                       lib  \\\n",
       "0      0.225257   961.0  980.0   971.0  SRR1197127_seedling_root   \n",
       "1      0.994579   484.0  507.0   498.0  SRR1197127_seedling_root   \n",
       "\n",
       "                 gene                         Human-Readable-Description  \\\n",
       "0  TraesCS1D02G057300       Pyrimidine-specific ribonucleoside hydrolase   \n",
       "1  TraesCS2D02G115700  Heavy metal transport/detoxification superfami...   \n",
       "\n",
       "   gene_deg_log2FoldChange  \n",
       "0                      NaN  \n",
       "1                      NaN  \n",
       "\n",
       "[2 rows x 47 columns]"
      ]
     },
     "execution_count": 8,
     "metadata": {},
     "output_type": "execute_result"
    }
   ],
   "source": [
    "df = pd.read_csv(path_res, sep='\\t')\n",
    "print(len(df.index))\n",
    "df.head(2)"
   ]
  },
  {
   "cell_type": "code",
   "execution_count": 17,
   "metadata": {},
   "outputs": [
    {
     "data": {
      "text/plain": [
       "Index(['#Locus', 'Name', 'Length', 'Reads', 'RPM', 'UniqueReads', 'FracTop',\n",
       "       'Strand', 'MajorRNA', 'MajorRNAReads', 'Complexity', 'DicerCall',\n",
       "       'MIRNA', 'PhaseScore', 'Short', 'Long', '20', '21', '22', '23', '24',\n",
       "       'log2FoldChange', 'mirbase', 'miRNA_Acc.', 'Target_Acc.', 'Expectation',\n",
       "       'UPE$', 'miRNA_start', 'miRNA_end', 'Target_start', 'Target_end',\n",
       "       'miRNA_aligned_fragment', 'alignment', 'Target_aligned_fragment',\n",
       "       'Inhibition', 'Target_Desc.', 'Multiplicity', 'Transcript',\n",
       "       'DegradomeCategory', 'DegradomePval', 'TStart', 'TStop', 'TSlice',\n",
       "       'lib', 'gene', 'Human-Readable-Description', 'gene_deg_log2FoldChange'],\n",
       "      dtype='object')"
      ]
     },
     "execution_count": 17,
     "metadata": {},
     "output_type": "execute_result"
    }
   ],
   "source": [
    "df.columns"
   ]
  },
  {
   "cell_type": "code",
   "execution_count": 10,
   "metadata": {},
   "outputs": [
    {
     "data": {
      "text/plain": [
       "13"
      ]
     },
     "execution_count": 10,
     "metadata": {},
     "output_type": "execute_result"
    }
   ],
   "source": [
    "df['#Locus'].nunique()"
   ]
  },
  {
   "cell_type": "code",
   "execution_count": 11,
   "metadata": {},
   "outputs": [
    {
     "data": {
      "text/plain": [
       "13"
      ]
     },
     "execution_count": 11,
     "metadata": {},
     "output_type": "execute_result"
    }
   ],
   "source": [
    "df['Name'].nunique()"
   ]
  },
  {
   "cell_type": "code",
   "execution_count": 18,
   "metadata": {},
   "outputs": [
    {
     "data": {
      "text/plain": [
       "0     -0.932063\n",
       "1     -0.932063\n",
       "2     -0.932063\n",
       "3     -0.932063\n",
       "4     -0.932063\n",
       "5     -0.932063\n",
       "6     -0.932063\n",
       "7     -0.932063\n",
       "8     -0.932063\n",
       "9     -0.932063\n",
       "10    -0.932063\n",
       "11    -0.932063\n",
       "12    -0.932063\n",
       "13    -0.932063\n",
       "14    -0.932063\n",
       "15    -0.932063\n",
       "16    -0.932063\n",
       "17    -0.932063\n",
       "18    -0.932063\n",
       "19    -0.932063\n",
       "20    -0.932063\n",
       "21    -0.932063\n",
       "22    -0.932063\n",
       "23    -0.932063\n",
       "24    -0.932063\n",
       "25    -0.932063\n",
       "26    -0.932063\n",
       "27    -0.932063\n",
       "28    -0.932063\n",
       "29    -0.932063\n",
       "         ...   \n",
       "756    0.554554\n",
       "757    0.554554\n",
       "758    0.554554\n",
       "759    0.554554\n",
       "760    0.554554\n",
       "761    0.554554\n",
       "762    0.554554\n",
       "763    0.554554\n",
       "764    0.554554\n",
       "765    0.554554\n",
       "766    0.554554\n",
       "767    0.554554\n",
       "768    0.554554\n",
       "769    0.554554\n",
       "770    0.554554\n",
       "771    0.554554\n",
       "772    0.554554\n",
       "773   -0.727099\n",
       "774   -0.727099\n",
       "775   -0.727099\n",
       "776   -0.727099\n",
       "777   -0.727099\n",
       "778   -0.727099\n",
       "779   -0.727099\n",
       "780   -0.727099\n",
       "781   -0.727099\n",
       "782   -0.789020\n",
       "783   -0.789020\n",
       "784   -0.789020\n",
       "785   -0.789020\n",
       "Name: log2FoldChange, Length: 786, dtype: float64"
      ]
     },
     "execution_count": 18,
     "metadata": {},
     "output_type": "execute_result"
    }
   ],
   "source": []
  },
  {
   "cell_type": "code",
   "execution_count": null,
   "metadata": {},
   "outputs": [],
   "source": []
  },
  {
   "cell_type": "code",
   "execution_count": null,
   "metadata": {},
   "outputs": [],
   "source": []
  },
  {
   "cell_type": "code",
   "execution_count": null,
   "metadata": {},
   "outputs": [],
   "source": []
  },
  {
   "cell_type": "code",
   "execution_count": null,
   "metadata": {},
   "outputs": [],
   "source": []
  },
  {
   "cell_type": "code",
   "execution_count": null,
   "metadata": {},
   "outputs": [],
   "source": []
  },
  {
   "cell_type": "code",
   "execution_count": null,
   "metadata": {},
   "outputs": [],
   "source": []
  },
  {
   "cell_type": "code",
   "execution_count": null,
   "metadata": {},
   "outputs": [],
   "source": []
  },
  {
   "cell_type": "code",
   "execution_count": null,
   "metadata": {},
   "outputs": [],
   "source": []
  },
  {
   "cell_type": "code",
   "execution_count": null,
   "metadata": {},
   "outputs": [],
   "source": []
  }
 ],
 "metadata": {
  "kernelspec": {
   "display_name": "Python 3",
   "language": "python",
   "name": "python3"
  },
  "language_info": {
   "codemirror_mode": {
    "name": "ipython",
    "version": 3
   },
   "file_extension": ".py",
   "mimetype": "text/x-python",
   "name": "python",
   "nbconvert_exporter": "python",
   "pygments_lexer": "ipython3",
   "version": "3.6.5"
  }
 },
 "nbformat": 4,
 "nbformat_minor": 2
}
