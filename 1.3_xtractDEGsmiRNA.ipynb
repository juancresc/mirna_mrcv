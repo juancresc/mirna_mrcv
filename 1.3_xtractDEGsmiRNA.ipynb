{
 "cells": [
  {
   "cell_type": "code",
   "execution_count": 41,
   "metadata": {},
   "outputs": [],
   "source": [
    "import pandas as pd\n",
    "from Bio import SeqIO\n",
    "from Bio.SeqRecord import SeqRecord\n",
    "from Bio.Seq import Seq"
   ]
  },
  {
   "cell_type": "code",
   "execution_count": 42,
   "metadata": {},
   "outputs": [],
   "source": [
    "\n",
    "path_data_dir = \"/home/juan/Desktop/juan/bio/mirna_mite/data/res/mrcv_all/\"\n",
    "path_res_dir = \"/home/juan/Desktop/juan/bio/mirna_mrcv/data/\"\n",
    "path_fasta_res = \"/home/juan/Desktop/juan/bio/mirna_mrcv/data/mirna.deg.Y.fasta\"\n",
    "path_deg_file = path_res_dir + \"mirna.deg.csv\""
   ]
  },
  {
   "cell_type": "code",
   "execution_count": 43,
   "metadata": {},
   "outputs": [
    {
     "data": {
      "text/html": [
       "<div>\n",
       "<style scoped>\n",
       "    .dataframe tbody tr th:only-of-type {\n",
       "        vertical-align: middle;\n",
       "    }\n",
       "\n",
       "    .dataframe tbody tr th {\n",
       "        vertical-align: top;\n",
       "    }\n",
       "\n",
       "    .dataframe thead th {\n",
       "        text-align: right;\n",
       "    }\n",
       "</style>\n",
       "<table border=\"1\" class=\"dataframe\">\n",
       "  <thead>\n",
       "    <tr style=\"text-align: right;\">\n",
       "      <th></th>\n",
       "      <th>#Locus</th>\n",
       "      <th>Name</th>\n",
       "      <th>Length</th>\n",
       "      <th>Reads</th>\n",
       "      <th>RPM</th>\n",
       "      <th>UniqueReads</th>\n",
       "      <th>FracTop</th>\n",
       "      <th>Strand</th>\n",
       "      <th>MajorRNA</th>\n",
       "      <th>MajorRNAReads</th>\n",
       "      <th>...</th>\n",
       "      <th>DicerCall</th>\n",
       "      <th>MIRNA</th>\n",
       "      <th>PhaseScore</th>\n",
       "      <th>Short</th>\n",
       "      <th>Long</th>\n",
       "      <th>20</th>\n",
       "      <th>21</th>\n",
       "      <th>22</th>\n",
       "      <th>23</th>\n",
       "      <th>24</th>\n",
       "    </tr>\n",
       "  </thead>\n",
       "  <tbody>\n",
       "    <tr>\n",
       "      <th>0</th>\n",
       "      <td>1A:209-460</td>\n",
       "      <td>Cluster_1</td>\n",
       "      <td>252</td>\n",
       "      <td>118</td>\n",
       "      <td>0.926</td>\n",
       "      <td>64</td>\n",
       "      <td>1.0</td>\n",
       "      <td>+</td>\n",
       "      <td>CGCGGAUUGCUCGAGCUGCUCACGCGGCGAGAGCGGGUCG</td>\n",
       "      <td>25</td>\n",
       "      <td>...</td>\n",
       "      <td>N</td>\n",
       "      <td>N2</td>\n",
       "      <td>-1.0</td>\n",
       "      <td>28</td>\n",
       "      <td>71</td>\n",
       "      <td>2</td>\n",
       "      <td>1</td>\n",
       "      <td>6</td>\n",
       "      <td>6</td>\n",
       "      <td>4</td>\n",
       "    </tr>\n",
       "    <tr>\n",
       "      <th>1</th>\n",
       "      <td>1A:690-750</td>\n",
       "      <td>Cluster_2</td>\n",
       "      <td>61</td>\n",
       "      <td>78</td>\n",
       "      <td>0.612</td>\n",
       "      <td>0</td>\n",
       "      <td>1.0</td>\n",
       "      <td>+</td>\n",
       "      <td>UAGACCGACUUUGUGAAAUG</td>\n",
       "      <td>5</td>\n",
       "      <td>...</td>\n",
       "      <td>N</td>\n",
       "      <td>N2</td>\n",
       "      <td>-1.0</td>\n",
       "      <td>7</td>\n",
       "      <td>54</td>\n",
       "      <td>7</td>\n",
       "      <td>0</td>\n",
       "      <td>1</td>\n",
       "      <td>2</td>\n",
       "      <td>7</td>\n",
       "    </tr>\n",
       "  </tbody>\n",
       "</table>\n",
       "<p>2 rows × 21 columns</p>\n",
       "</div>"
      ],
      "text/plain": [
       "       #Locus       Name  Length  Reads    RPM  UniqueReads  FracTop Strand  \\\n",
       "0  1A:209-460  Cluster_1     252    118  0.926           64      1.0      +   \n",
       "1  1A:690-750  Cluster_2      61     78  0.612            0      1.0      +   \n",
       "\n",
       "                                   MajorRNA  MajorRNAReads ...  DicerCall  \\\n",
       "0  CGCGGAUUGCUCGAGCUGCUCACGCGGCGAGAGCGGGUCG             25 ...          N   \n",
       "1                      UAGACCGACUUUGUGAAAUG              5 ...          N   \n",
       "\n",
       "  MIRNA PhaseScore  Short  Long  20  21  22  23  24  \n",
       "0    N2       -1.0     28    71   2   1   6   6   4  \n",
       "1    N2       -1.0      7    54   7   0   1   2   7  \n",
       "\n",
       "[2 rows x 21 columns]"
      ]
     },
     "execution_count": 43,
     "metadata": {},
     "output_type": "execute_result"
    }
   ],
   "source": [
    "path_results = path_data_dir + \"Results.txt\"\n",
    "df_res = pd.read_csv(path_results, sep=\"\\t\")\n",
    "df_res.head(2)"
   ]
  },
  {
   "cell_type": "code",
   "execution_count": 44,
   "metadata": {},
   "outputs": [
    {
     "data": {
      "text/html": [
       "<div>\n",
       "<style scoped>\n",
       "    .dataframe tbody tr th:only-of-type {\n",
       "        vertical-align: middle;\n",
       "    }\n",
       "\n",
       "    .dataframe tbody tr th {\n",
       "        vertical-align: top;\n",
       "    }\n",
       "\n",
       "    .dataframe thead th {\n",
       "        text-align: right;\n",
       "    }\n",
       "</style>\n",
       "<table border=\"1\" class=\"dataframe\">\n",
       "  <thead>\n",
       "    <tr style=\"text-align: right;\">\n",
       "      <th></th>\n",
       "      <th>Gene</th>\n",
       "      <th>baseMean</th>\n",
       "      <th>log2FoldChange</th>\n",
       "      <th>lfcSE</th>\n",
       "      <th>stat</th>\n",
       "      <th>pvalue</th>\n",
       "      <th>padj</th>\n",
       "      <th>X21dpiR1C.trimmed</th>\n",
       "      <th>X21dpiR3C.trimmed</th>\n",
       "      <th>X21dpiR1T.trimmed</th>\n",
       "      <th>X21dpiR3T.trimmed</th>\n",
       "    </tr>\n",
       "  </thead>\n",
       "  <tbody>\n",
       "    <tr>\n",
       "      <th>0</th>\n",
       "      <td>Cluster_9889</td>\n",
       "      <td>298.598043</td>\n",
       "      <td>-1.471187</td>\n",
       "      <td>0.264059</td>\n",
       "      <td>-5.571425</td>\n",
       "      <td>2.526645e-08</td>\n",
       "      <td>0.000002</td>\n",
       "      <td>417.884204</td>\n",
       "      <td>459.336142</td>\n",
       "      <td>137.863421</td>\n",
       "      <td>179.308403</td>\n",
       "    </tr>\n",
       "    <tr>\n",
       "      <th>1</th>\n",
       "      <td>Cluster_35781</td>\n",
       "      <td>411.843895</td>\n",
       "      <td>-0.908261</td>\n",
       "      <td>0.236510</td>\n",
       "      <td>-3.840258</td>\n",
       "      <td>1.229050e-04</td>\n",
       "      <td>0.005899</td>\n",
       "      <td>583.212178</td>\n",
       "      <td>491.732645</td>\n",
       "      <td>306.089619</td>\n",
       "      <td>266.341137</td>\n",
       "    </tr>\n",
       "  </tbody>\n",
       "</table>\n",
       "</div>"
      ],
      "text/plain": [
       "            Gene    baseMean  log2FoldChange     lfcSE      stat  \\\n",
       "0   Cluster_9889  298.598043       -1.471187  0.264059 -5.571425   \n",
       "1  Cluster_35781  411.843895       -0.908261  0.236510 -3.840258   \n",
       "\n",
       "         pvalue      padj  X21dpiR1C.trimmed  X21dpiR3C.trimmed  \\\n",
       "0  2.526645e-08  0.000002         417.884204         459.336142   \n",
       "1  1.229050e-04  0.005899         583.212178         491.732645   \n",
       "\n",
       "   X21dpiR1T.trimmed  X21dpiR3T.trimmed  \n",
       "0         137.863421         179.308403  \n",
       "1         306.089619         266.341137  "
      ]
     },
     "execution_count": 44,
     "metadata": {},
     "output_type": "execute_result"
    }
   ],
   "source": [
    "df_deg = pd.read_csv(path_deg_file, sep=\",\")\n",
    "df_deg.head(2)"
   ]
  },
  {
   "cell_type": "code",
   "execution_count": 45,
   "metadata": {},
   "outputs": [
    {
     "data": {
      "text/plain": [
       "(4, 7)"
      ]
     },
     "execution_count": 45,
     "metadata": {},
     "output_type": "execute_result"
    }
   ],
   "source": [
    "len(df_deg[df_deg.log2FoldChange > 0].index), len(df_deg[df_deg.log2FoldChange < 0].index)"
   ]
  },
  {
   "cell_type": "code",
   "execution_count": 46,
   "metadata": {},
   "outputs": [],
   "source": [
    "df_deg = df_deg[['Gene','log2FoldChange']]"
   ]
  },
  {
   "cell_type": "code",
   "execution_count": 47,
   "metadata": {},
   "outputs": [
    {
     "name": "stdout",
     "output_type": "stream",
     "text": [
      "11\n"
     ]
    },
    {
     "data": {
      "text/html": [
       "<div>\n",
       "<style scoped>\n",
       "    .dataframe tbody tr th:only-of-type {\n",
       "        vertical-align: middle;\n",
       "    }\n",
       "\n",
       "    .dataframe tbody tr th {\n",
       "        vertical-align: top;\n",
       "    }\n",
       "\n",
       "    .dataframe thead th {\n",
       "        text-align: right;\n",
       "    }\n",
       "</style>\n",
       "<table border=\"1\" class=\"dataframe\">\n",
       "  <thead>\n",
       "    <tr style=\"text-align: right;\">\n",
       "      <th></th>\n",
       "      <th>#Locus</th>\n",
       "      <th>Name</th>\n",
       "      <th>Length</th>\n",
       "      <th>Reads</th>\n",
       "      <th>RPM</th>\n",
       "      <th>UniqueReads</th>\n",
       "      <th>FracTop</th>\n",
       "      <th>Strand</th>\n",
       "      <th>MajorRNA</th>\n",
       "      <th>MajorRNAReads</th>\n",
       "      <th>...</th>\n",
       "      <th>PhaseScore</th>\n",
       "      <th>Short</th>\n",
       "      <th>Long</th>\n",
       "      <th>20</th>\n",
       "      <th>21</th>\n",
       "      <th>22</th>\n",
       "      <th>23</th>\n",
       "      <th>24</th>\n",
       "      <th>Gene</th>\n",
       "      <th>log2FoldChange</th>\n",
       "    </tr>\n",
       "  </thead>\n",
       "  <tbody>\n",
       "    <tr>\n",
       "      <th>0</th>\n",
       "      <td>2A:485771022-485771154</td>\n",
       "      <td>Cluster_5906</td>\n",
       "      <td>133</td>\n",
       "      <td>5985</td>\n",
       "      <td>46.972</td>\n",
       "      <td>305</td>\n",
       "      <td>1.000</td>\n",
       "      <td>+</td>\n",
       "      <td>UAGGCGGUCACCUUGGCUAG</td>\n",
       "      <td>2883</td>\n",
       "      <td>...</td>\n",
       "      <td>-1.0</td>\n",
       "      <td>1080</td>\n",
       "      <td>3</td>\n",
       "      <td>4050</td>\n",
       "      <td>798</td>\n",
       "      <td>52</td>\n",
       "      <td>0</td>\n",
       "      <td>2</td>\n",
       "      <td>Cluster_5906</td>\n",
       "      <td>-0.915816</td>\n",
       "    </tr>\n",
       "    <tr>\n",
       "      <th>1</th>\n",
       "      <td>2A:652328872-652329011</td>\n",
       "      <td>Cluster_6309</td>\n",
       "      <td>140</td>\n",
       "      <td>1185</td>\n",
       "      <td>9.300</td>\n",
       "      <td>1</td>\n",
       "      <td>0.001</td>\n",
       "      <td>-</td>\n",
       "      <td>UGCCAAAGGAGAGUUGCCCUG</td>\n",
       "      <td>1136</td>\n",
       "      <td>...</td>\n",
       "      <td>-1.0</td>\n",
       "      <td>14</td>\n",
       "      <td>0</td>\n",
       "      <td>3</td>\n",
       "      <td>1155</td>\n",
       "      <td>11</td>\n",
       "      <td>2</td>\n",
       "      <td>0</td>\n",
       "      <td>Cluster_6309</td>\n",
       "      <td>-1.201318</td>\n",
       "    </tr>\n",
       "  </tbody>\n",
       "</table>\n",
       "<p>2 rows × 23 columns</p>\n",
       "</div>"
      ],
      "text/plain": [
       "                   #Locus          Name  Length  Reads     RPM  UniqueReads  \\\n",
       "0  2A:485771022-485771154  Cluster_5906     133   5985  46.972          305   \n",
       "1  2A:652328872-652329011  Cluster_6309     140   1185   9.300            1   \n",
       "\n",
       "   FracTop Strand               MajorRNA  MajorRNAReads       ...        \\\n",
       "0    1.000      +   UAGGCGGUCACCUUGGCUAG           2883       ...         \n",
       "1    0.001      -  UGCCAAAGGAGAGUUGCCCUG           1136       ...         \n",
       "\n",
       "   PhaseScore Short Long    20    21  22  23  24          Gene  log2FoldChange  \n",
       "0        -1.0  1080    3  4050   798  52   0   2  Cluster_5906       -0.915816  \n",
       "1        -1.0    14    0     3  1155  11   2   0  Cluster_6309       -1.201318  \n",
       "\n",
       "[2 rows x 23 columns]"
      ]
     },
     "execution_count": 47,
     "metadata": {},
     "output_type": "execute_result"
    }
   ],
   "source": [
    "df_deg_y = pd.merge(df_res, df_deg, left_on='Name', right_on='Gene')\n",
    "print(len(df_deg_y.index))\n",
    "df_deg_y.head(2)"
   ]
  },
  {
   "cell_type": "code",
   "execution_count": null,
   "metadata": {},
   "outputs": [],
   "source": []
  },
  {
   "cell_type": "code",
   "execution_count": 48,
   "metadata": {},
   "outputs": [
    {
     "name": "stdout",
     "output_type": "stream",
     "text": [
      "11\n",
      "/home/juan/Desktop/juan/bio/mirna_mrcv/data/mirna.deg.Y.fasta\n"
     ]
    }
   ],
   "source": [
    "buffer_seqs = []\n",
    "for k,v in df_deg_y.iterrows():\n",
    "    description = '%s l2fc:%f' % (v['#Locus'], v['log2FoldChange'])\n",
    "    seq = SeqRecord(Seq(v.MajorRNA), id=v.Name, description=description)\n",
    "    buffer_seqs.append(seq)\n",
    "SeqIO.write(buffer_seqs, path_fasta_res, \"fasta\")\n",
    "print(len(buffer_seqs))\n",
    "print(path_fasta_res)"
   ]
  },
  {
   "cell_type": "code",
   "execution_count": null,
   "metadata": {},
   "outputs": [],
   "source": [
    "df_deg_y.to_csv(path_res_dir + \"mirna.res.deg.csv\", sep=\"\\t\", index=None)"
   ]
  },
  {
   "cell_type": "code",
   "execution_count": null,
   "metadata": {},
   "outputs": [],
   "source": []
  },
  {
   "cell_type": "code",
   "execution_count": null,
   "metadata": {},
   "outputs": [],
   "source": []
  }
 ],
 "metadata": {
  "kernelspec": {
   "display_name": "Python 3",
   "language": "python",
   "name": "python3"
  },
  "language_info": {
   "codemirror_mode": {
    "name": "ipython",
    "version": 3
   },
   "file_extension": ".py",
   "mimetype": "text/x-python",
   "name": "python",
   "nbconvert_exporter": "python",
   "pygments_lexer": "ipython3",
   "version": "3.6.5"
  }
 },
 "nbformat": 4,
 "nbformat_minor": 2
}
